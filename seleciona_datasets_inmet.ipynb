{
 "cells": [
  {
   "cell_type": "code",
   "execution_count": 1,
   "metadata": {},
   "outputs": [],
   "source": [
    "import pandas as pd\n",
    "import geopandas as gpd\n",
    "import datetime\n",
    "import os\n",
    "import shapely\n"
   ]
  },
  {
   "cell_type": "code",
   "execution_count": 2,
   "metadata": {},
   "outputs": [],
   "source": [
    "def abrir_dados_estacoes() -> gpd.GeoDataFrame:     \n",
    "    dados_inmet = {\n",
    "        'regiao': [],\n",
    "        'estado': [],\n",
    "        'codigo_estacao': [],\n",
    "        'nome_estacao': [],\n",
    "        'lat': [],\n",
    "        'long': [],\n",
    "        'alt': [],\n",
    "        'data_fundacao': [],\n",
    "        'nome_arquivo': []\n",
    "    }\n",
    "    caminho_inmet = './data/INMET'\n",
    "    for dir in os.listdir(caminho_inmet):\n",
    "        if os.path.isdir(os.path.join(caminho_inmet, dir)):\n",
    "            for file in os.listdir(os.path.join(caminho_inmet, dir)):\n",
    "                if file.endswith('.csv') or file.endswith('.CSV'):\n",
    "                    f = open(os.path.join(caminho_inmet, dir, file), 'r', encoding='latin1')\n",
    "                    lines = [f.readline().split(';')[-1].strip() for _ in range(8)]\n",
    "                    dados_inmet['regiao'].append(lines[0])\n",
    "                    dados_inmet['estado'].append(lines[1])\n",
    "                    dados_inmet['codigo_estacao'].append(lines[2])\n",
    "                    dados_inmet['nome_estacao'].append(lines[3])\n",
    "                    dados_inmet['lat'].append(float(lines[4].replace(',', '.')))\n",
    "                    dados_inmet['long'].append(float(lines[5].replace(',', '.')))\n",
    "                    dados_inmet['alt'].append(float(lines[6].replace(',', '.')))\n",
    "                    dados_inmet['data_fundacao'].append(datetime.datetime.strptime(lines[7], '%d/%m/%y'))\n",
    "                    dados_inmet['nome_arquivo'].append(os.path.join(caminho_inmet, dir, file))\n",
    "\n",
    "    print(\"[info] Dados INMET carregados\")\n",
    "    return gpd.GeoDataFrame(dados_inmet, \n",
    "                            geometry=gpd.points_from_xy(dados_inmet['long'], dados_inmet['lat'])\n",
    "                            ).drop(columns=['lat', 'long'])"
   ]
  },
  {
   "cell_type": "code",
   "execution_count": 3,
   "metadata": {},
   "outputs": [],
   "source": [
    "def df2gdf_linestring(df: pd.DataFrame, ignora_sentido: bool) -> gpd.GeoDataFrame:\n",
    "    df.sort_values(['rodovia', 'km_m', 'sentido'], inplace=True, ignore_index=True)\n",
    "    df_return = {\n",
    "        \"rodovia\": [],\n",
    "        \"sentido\": [],\n",
    "        \"concessionaria\": [],\n",
    "        \"km\": [],\n",
    "        \"ano_do_pnv_snv\": [],\n",
    "        \"geometry\": []\n",
    "    }\n",
    "    pontos = []\n",
    "\n",
    "    linha_anterior = df.iloc[0]\n",
    "    for i, linha in df.iterrows():\n",
    "        if linha['rodovia'] != linha_anterior['rodovia'] or (linha['sentido'] != linha_anterior['sentido'] and not ignora_sentido):\n",
    "            df_return[\"rodovia\"].append(linha_anterior['rodovia'])\n",
    "            df_return[\"sentido\"].append(linha_anterior['sentido'])\n",
    "            df_return[\"concessionaria\"].append(linha_anterior['concessionaria'])\n",
    "            df_return[\"km\"].append(df[(df['rodovia'] == linha_anterior['rodovia']) &\n",
    "                                  (df['sentido'] == linha_anterior['sentido']) &\n",
    "                                  (df['concessionaria'] == linha_anterior['concessionaria'])]['km_m'].max())\n",
    "            df_return[\"ano_do_pnv_snv\"].append(linha_anterior['ano_do_pnv_snv'])\n",
    "            if len(pontos) > 1:\n",
    "                df_return[\"geometry\"].append(shapely.geometry.LineString(pontos))\n",
    "            else:\n",
    "                pontos.append((linha_anterior['longitude'], linha_anterior['latitude']))\n",
    "                df_return[\"geometry\"].append(shapely.geometry.LineString(pontos))\n",
    "            pontos = []\n",
    "            \n",
    "        pontos.append((linha['longitude'], linha['latitude']))\n",
    "        linha_anterior = linha\n",
    "\n",
    "\n",
    "    return gpd.GeoDataFrame(df_return, crs=\"EPSG:4326\")"
   ]
  },
  {
   "cell_type": "code",
   "execution_count": 4,
   "metadata": {},
   "outputs": [
    {
     "name": "stdout",
     "output_type": "stream",
     "text": [
      "[info] Dados INMET carregados\n",
      "  regiao estado                    codigo_estacao nome_estacao     alt  \\\n",
      "0     NE     PE                           SURUBIM         A328  421.44   \n",
      "1      N     TO                          MATEIROS         A040  791.00   \n",
      "2     SE     RJ  CAMPOS DOS GOYTACAZES - SAO TOME         A620    7.00   \n",
      "3     NE     PB                             PATOS         A321  263.66   \n",
      "4     CO     MT                PRIMAVERA DO LESTE         A923  680.00   \n",
      "\n",
      "  data_fundacao                                       nome_arquivo  \\\n",
      "0    2008-03-09  ./data/INMET/2024/INMET_NE_PE_A328_SURUBIM_01-...   \n",
      "1    2012-10-25  ./data/INMET/2024/INMET_N_TO_A040_MATEIROS_01-...   \n",
      "2    2008-06-13  ./data/INMET/2024/INMET_SE_RJ_A620_CAMPOS DOS ...   \n",
      "3    2007-07-21  ./data/INMET/2024/INMET_NE_PB_A321_PATOS_01-01...   \n",
      "4    2017-10-26  ./data/INMET/2024/INMET_CO_MT_A923_PRIMAVERA D...   \n",
      "\n",
      "                      geometry  \n",
      "0   POINT (-35.80111 -7.83972)  \n",
      "1  POINT (-45.92194 -10.43444)  \n",
      "2  POINT (-41.05167 -22.04167)  \n",
      "3   POINT (-37.27278 -7.07972)  \n",
      "4  POINT (-54.38111 -15.58000)  \n",
      "<class 'geopandas.geodataframe.GeoDataFrame'>\n",
      "RangeIndex: 2876 entries, 0 to 2875\n",
      "Data columns (total 8 columns):\n",
      " #   Column          Non-Null Count  Dtype         \n",
      "---  ------          --------------  -----         \n",
      " 0   regiao          2876 non-null   object        \n",
      " 1   estado          2876 non-null   object        \n",
      " 2   codigo_estacao  2876 non-null   object        \n",
      " 3   nome_estacao    2876 non-null   object        \n",
      " 4   alt             2876 non-null   float64       \n",
      " 5   data_fundacao   2876 non-null   datetime64[ns]\n",
      " 6   nome_arquivo    2876 non-null   object        \n",
      " 7   geometry        2876 non-null   geometry      \n",
      "dtypes: datetime64[ns](1), float64(1), geometry(1), object(5)\n",
      "memory usage: 179.9+ KB\n",
      "None\n"
     ]
    }
   ],
   "source": [
    "inmet_gdf = abrir_dados_estacoes()\n",
    "inmet_gdf.crs = \"EPSG:4326\"\n",
    "print(inmet_gdf.head())\n",
    "print(inmet_gdf.info())"
   ]
  },
  {
   "cell_type": "code",
   "execution_count": 5,
   "metadata": {},
   "outputs": [
    {
     "name": "stdout",
     "output_type": "stream",
     "text": [
      "          concessionaria  ano_do_pnv_snv    rodovia  km_m      sentido  \\\n",
      "0  AUTOPISTA FERNÃO DIAS            2007  BR-381/SP  22.6  Decrescente   \n",
      "1  AUTOPISTA FERNÃO DIAS            2007  BR-381/SP  22.4  Decrescente   \n",
      "2  AUTOPISTA FERNÃO DIAS            2007  BR-381/SP  22.2  Decrescente   \n",
      "3  AUTOPISTA FERNÃO DIAS            2007  BR-381/SP  22.0  Decrescente   \n",
      "4  AUTOPISTA FERNÃO DIAS            2007  BR-381/SP  21.8  Decrescente   \n",
      "\n",
      "    latitude  longitude  \n",
      "0 -22.999214 -46.518242  \n",
      "1 -22.997770 -46.517069  \n",
      "2 -22.996627 -46.515558  \n",
      "3 -22.995466 -46.514080  \n",
      "4 -22.994674 -46.512898  \n",
      "<class 'pandas.core.frame.DataFrame'>\n",
      "RangeIndex: 255127 entries, 0 to 255126\n",
      "Data columns (total 7 columns):\n",
      " #   Column          Non-Null Count   Dtype  \n",
      "---  ------          --------------   -----  \n",
      " 0   concessionaria  255127 non-null  object \n",
      " 1   ano_do_pnv_snv  255127 non-null  int64  \n",
      " 2   rodovia         255127 non-null  object \n",
      " 3   km_m            255127 non-null  float64\n",
      " 4   sentido         255127 non-null  object \n",
      " 5   latitude        255127 non-null  float64\n",
      " 6   longitude       255127 non-null  float64\n",
      "dtypes: float64(3), int64(1), object(3)\n",
      "memory usage: 13.6+ MB\n",
      "None\n"
     ]
    }
   ],
   "source": [
    "pista_principal_df = pd.read_csv('data/ANTT/km_pista_principal/dados_dos_quilometro_principal.csv', sep=';', encoding='latin1')\n",
    "pista_principal_df['latitude'] = pista_principal_df['latitude'].str.replace(',', '.').astype(float)\n",
    "pista_principal_df['longitude'] = pista_principal_df['longitude'].str.replace(',', '.').astype(float)\n",
    "pista_principal_df['km_m'] = pista_principal_df['km_m'].str.replace(',', '.').astype(float)\n",
    "print(pista_principal_df.head())\n",
    "print(pista_principal_df.info())\n"
   ]
  },
  {
   "cell_type": "code",
   "execution_count": 6,
   "metadata": {},
   "outputs": [
    {
     "name": "stdout",
     "output_type": "stream",
     "text": [
      "  rodovia      sentido    concessionaria       km  ano_do_pnv_snv  \\\n",
      "0  092/PR  Decrescente  LITORAL PIONEIRO  324.090            2019   \n",
      "1  151/PR    Crescente  LITORAL PIONEIRO  318.022            2019   \n",
      "2  239/PR  Decrescente  LITORAL PIONEIRO   12.359            2019   \n",
      "3  407/PR    Crescente  LITORAL PIONEIRO   17.990            2019   \n",
      "4  408/PR    Crescente  LITORAL PIONEIRO   21.999            2019   \n",
      "\n",
      "                                            geometry  \n",
      "0  LINESTRING (-49.73240 -24.25181, -49.73472 -24...  \n",
      "1  LINESTRING (-49.47956 -24.11651, -49.48566 -24...  \n",
      "2  LINESTRING (-49.37777 -24.11891, -49.38658 -24...  \n",
      "3  LINESTRING (-48.57749 -25.56884, -48.57285 -25...  \n",
      "4  LINESTRING (-48.75282 -25.52557, -48.76237 -25...  \n",
      "<class 'geopandas.geodataframe.GeoDataFrame'>\n",
      "RangeIndex: 99 entries, 0 to 98\n",
      "Data columns (total 6 columns):\n",
      " #   Column          Non-Null Count  Dtype   \n",
      "---  ------          --------------  -----   \n",
      " 0   rodovia         99 non-null     object  \n",
      " 1   sentido         99 non-null     object  \n",
      " 2   concessionaria  99 non-null     object  \n",
      " 3   km              99 non-null     float64 \n",
      " 4   ano_do_pnv_snv  99 non-null     int64   \n",
      " 5   geometry        99 non-null     geometry\n",
      "dtypes: float64(1), geometry(1), int64(1), object(3)\n",
      "memory usage: 4.8+ KB\n",
      "None\n"
     ]
    }
   ],
   "source": [
    "pista_principal_gdf = df2gdf_linestring(pista_principal_df, True)\n",
    "print(pista_principal_gdf.head())\n",
    "print(pista_principal_gdf.info())"
   ]
  },
  {
   "cell_type": "code",
   "execution_count": 7,
   "metadata": {},
   "outputs": [
    {
     "name": "stderr",
     "output_type": "stream",
     "text": [
      "/node/guibatalhoti/antt_data_analysis/env/lib/python3.12/site-packages/shapely/measurement.py:72: RuntimeWarning: invalid value encountered in distance\n",
      "  return lib.distance(a, b, **kwargs)\n"
     ]
    },
    {
     "name": "stdout",
     "output_type": "stream",
     "text": [
      "  rodovia      sentido    concessionaria       km  ano_do_pnv_snv  \\\n",
      "0  092/PR  Decrescente  LITORAL PIONEIRO  324.090            2019   \n",
      "1  151/PR    Crescente  LITORAL PIONEIRO  318.022            2019   \n",
      "2  239/PR  Decrescente  LITORAL PIONEIRO   12.359            2019   \n",
      "3  407/PR    Crescente  LITORAL PIONEIRO   17.990            2019   \n",
      "4  408/PR    Crescente  LITORAL PIONEIRO   21.999            2019   \n",
      "\n",
      "                                            geometry  \\\n",
      "0  LINESTRING (-49.73240 -24.25181, -49.73472 -24...   \n",
      "1  LINESTRING (-49.47956 -24.11651, -49.48566 -24...   \n",
      "2  LINESTRING (-49.37777 -24.11891, -49.38658 -24...   \n",
      "3  LINESTRING (-48.57749 -25.56884, -48.57285 -25...   \n",
      "4  LINESTRING (-48.75282 -25.52557, -48.76237 -25...   \n",
      "\n",
      "                                   estacoes_proximas  \n",
      "0  424     JOAQUIM TAVORA\n",
      "696     JOAQUIM TAVORA\n",
      "...  \n",
      "1  478     CASTRO\n",
      "928     CASTRO\n",
      "1763    CASTRO\n",
      "2...  \n",
      "2                                               None  \n",
      "3                                               None  \n",
      "4  337     MORRETES\n",
      "944     MORRETES\n",
      "1437    MORR...  \n",
      "<class 'geopandas.geodataframe.GeoDataFrame'>\n",
      "RangeIndex: 99 entries, 0 to 98\n",
      "Data columns (total 7 columns):\n",
      " #   Column             Non-Null Count  Dtype   \n",
      "---  ------             --------------  -----   \n",
      " 0   rodovia            99 non-null     object  \n",
      " 1   sentido            99 non-null     object  \n",
      " 2   concessionaria     99 non-null     object  \n",
      " 3   km                 99 non-null     float64 \n",
      " 4   ano_do_pnv_snv     99 non-null     int64   \n",
      " 5   geometry           99 non-null     geometry\n",
      " 6   estacoes_proximas  73 non-null     object  \n",
      "dtypes: float64(1), geometry(1), int64(1), object(4)\n",
      "memory usage: 5.5+ KB\n",
      "None\n"
     ]
    },
    {
     "name": "stderr",
     "output_type": "stream",
     "text": [
      "/node/guibatalhoti/antt_data_analysis/env/lib/python3.12/site-packages/geopandas/io/file.py:612: UserWarning: You are attempting to write an empty DataFrame to file. For some drivers, this operation may fail.\n",
      "  _to_file_fiona(df, filename, driver, schema, crs, mode, **kwargs)\n",
      "/node/guibatalhoti/antt_data_analysis/env/lib/python3.12/site-packages/fiona/collection.py:659: UserWarning: CSV driver silently converts datetime to string\n",
      "  warnings.warn(\n"
     ]
    },
    {
     "ename": "DriverIOError",
     "evalue": "Attempt to create csv layer (file) against a non-directory datasource.",
     "output_type": "error",
     "traceback": [
      "\u001b[0;31m---------------------------------------------------------------------------\u001b[0m",
      "\u001b[0;31mCPLE_AppDefinedError\u001b[0m                      Traceback (most recent call last)",
      "File \u001b[0;32mfiona/ogrext.pyx:1239\u001b[0m, in \u001b[0;36mfiona.ogrext.WritingSession.start\u001b[0;34m()\u001b[0m\n",
      "File \u001b[0;32mfiona/ogrext.pyx:1240\u001b[0m, in \u001b[0;36mfiona.ogrext.WritingSession.start\u001b[0;34m()\u001b[0m\n",
      "File \u001b[0;32mfiona/_err.pyx:291\u001b[0m, in \u001b[0;36mfiona._err.exc_wrap_pointer\u001b[0;34m()\u001b[0m\n",
      "\u001b[0;31mCPLE_AppDefinedError\u001b[0m: Attempt to create csv layer (file) against a non-directory datasource.",
      "\nDuring handling of the above exception, another exception occurred:\n",
      "\u001b[0;31mDriverIOError\u001b[0m                             Traceback (most recent call last)",
      "Cell \u001b[0;32mIn[10], line 22\u001b[0m\n\u001b[1;32m     20\u001b[0m \u001b[38;5;28mprint\u001b[39m(rodovias_estacoes_gdf\u001b[38;5;241m.\u001b[39mhead())\n\u001b[1;32m     21\u001b[0m \u001b[38;5;28mprint\u001b[39m(rodovias_estacoes_gdf\u001b[38;5;241m.\u001b[39minfo())\n\u001b[0;32m---> 22\u001b[0m rodovias_estacoes_gdf\u001b[38;5;241m.\u001b[39mto_file(\u001b[38;5;124m'\u001b[39m\u001b[38;5;124mrodo_estacoes.csv\u001b[39m\u001b[38;5;124m'\u001b[39m, driver\u001b[38;5;241m=\u001b[39m\u001b[38;5;124m'\u001b[39m\u001b[38;5;124mCSV\u001b[39m\u001b[38;5;124m'\u001b[39m)\n",
      "File \u001b[0;32m/node/guibatalhoti/antt_data_analysis/env/lib/python3.12/site-packages/geopandas/geodataframe.py:1264\u001b[0m, in \u001b[0;36mGeoDataFrame.to_file\u001b[0;34m(self, filename, driver, schema, index, **kwargs)\u001b[0m\n\u001b[1;32m   1173\u001b[0m \u001b[38;5;250m\u001b[39m\u001b[38;5;124;03m\"\"\"Write the ``GeoDataFrame`` to a file.\u001b[39;00m\n\u001b[1;32m   1174\u001b[0m \n\u001b[1;32m   1175\u001b[0m \u001b[38;5;124;03mBy default, an ESRI shapefile is written, but any OGR data source\u001b[39;00m\n\u001b[0;32m   (...)\u001b[0m\n\u001b[1;32m   1260\u001b[0m \n\u001b[1;32m   1261\u001b[0m \u001b[38;5;124;03m\"\"\"\u001b[39;00m\n\u001b[1;32m   1262\u001b[0m \u001b[38;5;28;01mfrom\u001b[39;00m \u001b[38;5;21;01mgeopandas\u001b[39;00m\u001b[38;5;21;01m.\u001b[39;00m\u001b[38;5;21;01mio\u001b[39;00m\u001b[38;5;21;01m.\u001b[39;00m\u001b[38;5;21;01mfile\u001b[39;00m \u001b[38;5;28;01mimport\u001b[39;00m _to_file\n\u001b[0;32m-> 1264\u001b[0m _to_file(\u001b[38;5;28mself\u001b[39m, filename, driver, schema, index, \u001b[38;5;241m*\u001b[39m\u001b[38;5;241m*\u001b[39mkwargs)\n",
      "File \u001b[0;32m/node/guibatalhoti/antt_data_analysis/env/lib/python3.12/site-packages/geopandas/io/file.py:612\u001b[0m, in \u001b[0;36m_to_file\u001b[0;34m(df, filename, driver, schema, index, mode, crs, engine, **kwargs)\u001b[0m\n\u001b[1;32m    609\u001b[0m     \u001b[38;5;28;01mraise\u001b[39;00m \u001b[38;5;167;01mValueError\u001b[39;00m(\u001b[38;5;124mf\u001b[39m\u001b[38;5;124m\"\u001b[39m\u001b[38;5;124m'\u001b[39m\u001b[38;5;124mmode\u001b[39m\u001b[38;5;124m'\u001b[39m\u001b[38;5;124m should be one of \u001b[39m\u001b[38;5;124m'\u001b[39m\u001b[38;5;124mw\u001b[39m\u001b[38;5;124m'\u001b[39m\u001b[38;5;124m or \u001b[39m\u001b[38;5;124m'\u001b[39m\u001b[38;5;124ma\u001b[39m\u001b[38;5;124m'\u001b[39m\u001b[38;5;124m, got \u001b[39m\u001b[38;5;124m'\u001b[39m\u001b[38;5;132;01m{\u001b[39;00mmode\u001b[38;5;132;01m}\u001b[39;00m\u001b[38;5;124m'\u001b[39m\u001b[38;5;124m instead\u001b[39m\u001b[38;5;124m\"\u001b[39m)\n\u001b[1;32m    611\u001b[0m \u001b[38;5;28;01mif\u001b[39;00m engine \u001b[38;5;241m==\u001b[39m \u001b[38;5;124m\"\u001b[39m\u001b[38;5;124mfiona\u001b[39m\u001b[38;5;124m\"\u001b[39m:\n\u001b[0;32m--> 612\u001b[0m     _to_file_fiona(df, filename, driver, schema, crs, mode, \u001b[38;5;241m*\u001b[39m\u001b[38;5;241m*\u001b[39mkwargs)\n\u001b[1;32m    613\u001b[0m \u001b[38;5;28;01melif\u001b[39;00m engine \u001b[38;5;241m==\u001b[39m \u001b[38;5;124m\"\u001b[39m\u001b[38;5;124mpyogrio\u001b[39m\u001b[38;5;124m\"\u001b[39m:\n\u001b[1;32m    614\u001b[0m     _to_file_pyogrio(df, filename, driver, schema, crs, mode, \u001b[38;5;241m*\u001b[39m\u001b[38;5;241m*\u001b[39mkwargs)\n",
      "File \u001b[0;32m/node/guibatalhoti/antt_data_analysis/env/lib/python3.12/site-packages/geopandas/io/file.py:638\u001b[0m, in \u001b[0;36m_to_file_fiona\u001b[0;34m(df, filename, driver, schema, crs, mode, **kwargs)\u001b[0m\n\u001b[1;32m    636\u001b[0m \u001b[38;5;28;01melif\u001b[39;00m crs:\n\u001b[1;32m    637\u001b[0m     crs_wkt \u001b[38;5;241m=\u001b[39m crs\u001b[38;5;241m.\u001b[39mto_wkt(\u001b[38;5;124m\"\u001b[39m\u001b[38;5;124mWKT1_GDAL\u001b[39m\u001b[38;5;124m\"\u001b[39m)\n\u001b[0;32m--> 638\u001b[0m \u001b[38;5;28;01mwith\u001b[39;00m fiona\u001b[38;5;241m.\u001b[39mopen(\n\u001b[1;32m    639\u001b[0m     filename, mode\u001b[38;5;241m=\u001b[39mmode, driver\u001b[38;5;241m=\u001b[39mdriver, crs_wkt\u001b[38;5;241m=\u001b[39mcrs_wkt, schema\u001b[38;5;241m=\u001b[39mschema, \u001b[38;5;241m*\u001b[39m\u001b[38;5;241m*\u001b[39mkwargs\n\u001b[1;32m    640\u001b[0m ) \u001b[38;5;28;01mas\u001b[39;00m colxn:\n\u001b[1;32m    641\u001b[0m     colxn\u001b[38;5;241m.\u001b[39mwriterecords(df\u001b[38;5;241m.\u001b[39miterfeatures())\n",
      "File \u001b[0;32m/node/guibatalhoti/antt_data_analysis/env/lib/python3.12/site-packages/fiona/env.py:457\u001b[0m, in \u001b[0;36mensure_env_with_credentials.<locals>.wrapper\u001b[0;34m(*args, **kwds)\u001b[0m\n\u001b[1;32m    454\u001b[0m     session \u001b[38;5;241m=\u001b[39m DummySession()\n\u001b[1;32m    456\u001b[0m \u001b[38;5;28;01mwith\u001b[39;00m env_ctor(session\u001b[38;5;241m=\u001b[39msession):\n\u001b[0;32m--> 457\u001b[0m     \u001b[38;5;28;01mreturn\u001b[39;00m f(\u001b[38;5;241m*\u001b[39margs, \u001b[38;5;241m*\u001b[39m\u001b[38;5;241m*\u001b[39mkwds)\n",
      "File \u001b[0;32m/node/guibatalhoti/antt_data_analysis/env/lib/python3.12/site-packages/fiona/__init__.py:303\u001b[0m, in \u001b[0;36mopen\u001b[0;34m(fp, mode, driver, schema, crs, encoding, layer, vfs, enabled_drivers, crs_wkt, allow_unsupported_drivers, **kwargs)\u001b[0m\n\u001b[1;32m    292\u001b[0m     colxn \u001b[38;5;241m=\u001b[39m Collection(\n\u001b[1;32m    293\u001b[0m         path,\n\u001b[1;32m    294\u001b[0m         mode,\n\u001b[0;32m   (...)\u001b[0m\n\u001b[1;32m    300\u001b[0m         \u001b[38;5;241m*\u001b[39m\u001b[38;5;241m*\u001b[39mkwargs\n\u001b[1;32m    301\u001b[0m     )\n\u001b[1;32m    302\u001b[0m \u001b[38;5;28;01melif\u001b[39;00m mode \u001b[38;5;241m==\u001b[39m \u001b[38;5;124m\"\u001b[39m\u001b[38;5;124mw\u001b[39m\u001b[38;5;124m\"\u001b[39m:\n\u001b[0;32m--> 303\u001b[0m     colxn \u001b[38;5;241m=\u001b[39m Collection(\n\u001b[1;32m    304\u001b[0m         path,\n\u001b[1;32m    305\u001b[0m         mode,\n\u001b[1;32m    306\u001b[0m         crs\u001b[38;5;241m=\u001b[39mcrs,\n\u001b[1;32m    307\u001b[0m         driver\u001b[38;5;241m=\u001b[39mdriver,\n\u001b[1;32m    308\u001b[0m         schema\u001b[38;5;241m=\u001b[39mschema,\n\u001b[1;32m    309\u001b[0m         encoding\u001b[38;5;241m=\u001b[39mencoding,\n\u001b[1;32m    310\u001b[0m         layer\u001b[38;5;241m=\u001b[39mlayer,\n\u001b[1;32m    311\u001b[0m         enabled_drivers\u001b[38;5;241m=\u001b[39menabled_drivers,\n\u001b[1;32m    312\u001b[0m         crs_wkt\u001b[38;5;241m=\u001b[39mcrs_wkt,\n\u001b[1;32m    313\u001b[0m         allow_unsupported_drivers\u001b[38;5;241m=\u001b[39mallow_unsupported_drivers,\n\u001b[1;32m    314\u001b[0m         \u001b[38;5;241m*\u001b[39m\u001b[38;5;241m*\u001b[39mkwargs\n\u001b[1;32m    315\u001b[0m     )\n\u001b[1;32m    316\u001b[0m \u001b[38;5;28;01melse\u001b[39;00m:\n\u001b[1;32m    317\u001b[0m     \u001b[38;5;28;01mraise\u001b[39;00m \u001b[38;5;167;01mValueError\u001b[39;00m(\u001b[38;5;124m\"\u001b[39m\u001b[38;5;124mmode string must be one of \u001b[39m\u001b[38;5;124m{\u001b[39m\u001b[38;5;124m'\u001b[39m\u001b[38;5;124mr\u001b[39m\u001b[38;5;124m'\u001b[39m\u001b[38;5;124m, \u001b[39m\u001b[38;5;124m'\u001b[39m\u001b[38;5;124mw\u001b[39m\u001b[38;5;124m'\u001b[39m\u001b[38;5;124m, \u001b[39m\u001b[38;5;124m'\u001b[39m\u001b[38;5;124ma\u001b[39m\u001b[38;5;124m'\u001b[39m\u001b[38;5;124m}\u001b[39m\u001b[38;5;124m\"\u001b[39m)\n",
      "File \u001b[0;32m/node/guibatalhoti/antt_data_analysis/env/lib/python3.12/site-packages/fiona/collection.py:246\u001b[0m, in \u001b[0;36mCollection.__init__\u001b[0;34m(self, path, mode, driver, schema, crs, encoding, layer, vsi, archive, enabled_drivers, crs_wkt, ignore_fields, ignore_geometry, include_fields, wkt_version, allow_unsupported_drivers, **kwargs)\u001b[0m\n\u001b[1;32m    244\u001b[0m     \u001b[38;5;28;01melif\u001b[39;00m \u001b[38;5;28mself\u001b[39m\u001b[38;5;241m.\u001b[39mmode \u001b[38;5;129;01min\u001b[39;00m (\u001b[38;5;124m\"\u001b[39m\u001b[38;5;124ma\u001b[39m\u001b[38;5;124m\"\u001b[39m, \u001b[38;5;124m\"\u001b[39m\u001b[38;5;124mw\u001b[39m\u001b[38;5;124m\"\u001b[39m):\n\u001b[1;32m    245\u001b[0m         \u001b[38;5;28mself\u001b[39m\u001b[38;5;241m.\u001b[39msession \u001b[38;5;241m=\u001b[39m WritingSession()\n\u001b[0;32m--> 246\u001b[0m         \u001b[38;5;28mself\u001b[39m\u001b[38;5;241m.\u001b[39msession\u001b[38;5;241m.\u001b[39mstart(\u001b[38;5;28mself\u001b[39m, \u001b[38;5;241m*\u001b[39m\u001b[38;5;241m*\u001b[39mkwargs)\n\u001b[1;32m    247\u001b[0m \u001b[38;5;28;01mexcept\u001b[39;00m \u001b[38;5;167;01mOSError\u001b[39;00m:\n\u001b[1;32m    248\u001b[0m     \u001b[38;5;28mself\u001b[39m\u001b[38;5;241m.\u001b[39msession \u001b[38;5;241m=\u001b[39m \u001b[38;5;28;01mNone\u001b[39;00m\n",
      "File \u001b[0;32mfiona/ogrext.pyx:1248\u001b[0m, in \u001b[0;36mfiona.ogrext.WritingSession.start\u001b[0;34m()\u001b[0m\n",
      "\u001b[0;31mDriverIOError\u001b[0m: Attempt to create csv layer (file) against a non-directory datasource."
     ]
    }
   ],
   "source": [
    "def achar_estacao_mais_proxima(rodovias_gdf: gpd.GeoDataFrame, estacoes_gdf: gpd.GeoDataFrame, raio = 10000) -> gpd.GeoDataFrame:\n",
    "    rodovias_gdf_copy = rodovias_gdf.copy()\n",
    "    estacoes_gdf_copy = estacoes_gdf.copy()\n",
    "\n",
    "    if rodovias_gdf_copy.crs is None:\n",
    "        rodovias_gdf_copy = rodovias_gdf_copy.set_crs(epsg=4326)\n",
    "    if estacoes_gdf_copy.crs is None:\n",
    "        estacoes_gdf_copy = estacoes_gdf_copy.set_crs(epsg=4326)\n",
    "    \n",
    "    rodovias_gdf_metrico = rodovias_gdf_copy.to_crs(epsg=3857)\n",
    "    estacoes_gdf_metrico = estacoes_gdf_copy.to_crs(epsg=3857)\n",
    "    \n",
    "    pontos_estacoes_proximas = []\n",
    "\n",
    "    for _, rodovia in rodovias_gdf_metrico.iterrows():\n",
    "        estacoes_proximas = estacoes_gdf_metrico[estacoes_gdf_metrico.geometry.distance(rodovia.geometry) <= raio]\n",
    "        if not estacoes_proximas.empty:\n",
    "            codigo_estacao = estacoes_proximas['codigo_estacao']\n",
    "            # multipoint_estacoes = shapely.MultiPoint(estacoes_proximas.geometry.values)\n",
    "        else:\n",
    "            codigo_estacao = None\n",
    "            # multipoint_estacoes = None  # Nenhuma estação dentro do raio\n",
    "        \n",
    "        # pontos_estacoes_proximas.append(multipoint_estacoes)\n",
    "        pontos_estacoes_proximas.append(codigo_estacao)\n",
    "    \n",
    "    rodovias_gdf_copy[\"estacoes_proximas\"] = pontos_estacoes_proximas\n",
    "    return rodovias_gdf_copy.to_crs(rodovias_gdf_copy.crs)\n",
    "\n",
    "\n",
    "rodovias_estacoes_gdf = achar_estacao_mais_proxima(pista_principal_gdf, inmet_gdf)\n",
    "print(rodovias_estacoes_gdf.head())\n",
    "print(rodovias_estacoes_gdf.info())\n",
    "rodovias_estacoes_gdf.to_csv('rodo_estacoes.csv')"
   ]
  },
  {
   "cell_type": "code",
   "execution_count": 8,
   "metadata": {},
   "outputs": [],
   "source": [
    "import folium\n",
    "\n",
    "m = folium.Map(location=[-15.788497, -47.879873], zoom_start=4)\n",
    "\n",
    "#rodovias e estações com a mesma cor para melhor identificação\n",
    "pista_principal_gdf.crs = \"EPSG:4326\"\n",
    "\n",
    "folium.GeoJson(pista_principal_gdf, \n",
    "               name=\"Pista Principal\", \n",
    "               style_function=lambda x: {'color': 'blue', 'weight': 5, 'opacity': 0.6},\n",
    "               popup=folium.GeoJsonPopup(fields=['rodovia', 'concessionaria'], labels=True),\n",
    "               tooltip=folium.GeoJsonTooltip(fields=['rodovia', 'concessionaria'], labels=True),\n",
    "               zoom_on_click=True).add_to(m)\n",
    "\n",
    "for _, rodovia in rodovias_estacoes_gdf.iterrows():\n",
    "    if rodovia['estacoes_proximas'] is not None:\n",
    "        for estacao in rodovia['estacoes_proximas']:\n",
    "            x, y = inmet_gdf[inmet_gdf['codigo_estacao'] == estacao].geometry.x, inmet_gdf[inmet_gdf['codigo_estacao'] == estacao].geometry.y\n",
    "            x, y = x.values[0], y.values[0]\n",
    "            folium.CircleMarker(location=[y, x], radius=5, color='red').add_to(m)\n",
    "        \n",
    "folium.LayerControl().add_to(m)\n",
    "m.save('mapa.html')\n"
   ]
  },
  {
   "cell_type": "code",
   "execution_count": 9,
   "metadata": {},
   "outputs": [
    {
     "name": "stdout",
     "output_type": "stream",
     "text": [
      "EPSG:4326 EPSG:4326\n"
     ]
    }
   ],
   "source": [
    "print(pista_principal_gdf.crs, inmet_gdf.crs)"
   ]
  },
  {
   "cell_type": "markdown",
   "metadata": {},
   "source": [
    "Segunda forma de calcular"
   ]
  },
  {
   "cell_type": "code",
   "execution_count": 10,
   "metadata": {},
   "outputs": [
    {
     "name": "stderr",
     "output_type": "stream",
     "text": [
      "/tmp/ipykernel_1654536/2890774956.py:6: UserWarning: Geometry is in a geographic CRS. Results from 'buffer' are likely incorrect. Use 'GeoSeries.to_crs()' to re-project geometries to a projected CRS before this operation.\n",
      "\n",
      "  buffer_rodovia['geometry'] = buffer_rodovia.buffer(raio * 1000)\n"
     ]
    },
    {
     "ename": "",
     "evalue": "",
     "output_type": "error",
     "traceback": [
      "\u001b[1;31mO Kernel deu pane ao executar o código na célula atual ou em uma célula anterior. \n",
      "\u001b[1;31mAnalise o código nas células para identificar uma possível causa da pane. \n",
      "\u001b[1;31mClique <a href='https://aka.ms/vscodeJupyterKernelCrash'>aqui</a> para obter mais informações. \n",
      "\u001b[1;31mConsulte Jupyter <a href='command:jupyter.viewOutput'>log</a> para obter mais detalhes."
     ]
    }
   ],
   "source": [
    "pista_principal_gdf.to_crs(\"EPSG:32633\")\n",
    "inmet_gdf.to_crs(\"EPSG:32633\")\n",
    "\n",
    "raio = 2\n",
    "buffer_rodovia = pista_principal_gdf.copy()\n",
    "buffer_rodovia['geometry'] = buffer_rodovia.buffer(raio * 1000)\n",
    "\n",
    "estacoes_proximas = gpd.sjoin(buffer_rodovia, inmet_gdf, op='within')\n",
    "\n",
    "pista_principal_gdf.to_crs(\"EPSG:4326\")\n",
    "inmet_gdf.to_crs(\"EPSG:4326\")\n",
    "\n",
    "estacoes_proximas.to_csv('estacoes_proximas.csv')"
   ]
  },
  {
   "cell_type": "code",
   "execution_count": null,
   "metadata": {},
   "outputs": [],
   "source": []
  }
 ],
 "metadata": {
  "kernelspec": {
   "display_name": "Python 3",
   "language": "python",
   "name": "python3"
  },
  "language_info": {
   "codemirror_mode": {
    "name": "ipython",
    "version": 3
   },
   "file_extension": ".py",
   "mimetype": "text/x-python",
   "name": "python",
   "nbconvert_exporter": "python",
   "pygments_lexer": "ipython3",
   "version": "3.12.5"
  }
 },
 "nbformat": 4,
 "nbformat_minor": 2
}
