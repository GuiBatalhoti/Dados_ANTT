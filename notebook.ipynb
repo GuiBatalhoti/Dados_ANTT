{
  "cells": [
    {
      "cell_type": "markdown",
      "metadata": {
        "id": "view-in-github",
        "colab_type": "text"
      },
      "source": [
        "<a href=\"https://colab.research.google.com/github/GuiBatalhoti/Dados_ANTT/blob/main/notebook.ipynb\" target=\"_parent\"><img src=\"https://colab.research.google.com/assets/colab-badge.svg\" alt=\"Open In Colab\"/></a>"
      ]
    },
    {
      "cell_type": "markdown",
      "metadata": {
        "id": "8M8SSR1I53rE"
      },
      "source": [
        "# Análise dos dados abertos da ANTT\n",
        "\n",
        "Os dados utilizados nesse notebook vêm da página de Dados Abertos da ANTT (Agência Nacional de Transportes Terrestres), mais especificamente do grupo \"Rodovias\", disponível no [link](https://dados.antt.gov.br/group/rodovias]). Para saber mais sobre o Portal de Dados Abertos da ANTT veja o seguinte [link](https://dados.antt.gov.br/about)."
      ]
    },
    {
      "cell_type": "markdown",
      "source": [
        "## Objetivo\n",
        "\n",
        "O principal objetivo desse notebook é criar vizualizações para verificar a consistência dos dados fornecidos à ANTT pelas concessionárias de cada trecho de rodovia. Por exemplo, verficar os traçados das rodovias."
      ],
      "metadata": {
        "id": "HVRmUHxw96xg"
      }
    },
    {
      "cell_type": "markdown",
      "source": [
        "# Análises e Vizualizações\n",
        "\n",
        "\n",
        "## Observações sobre o notebook\n",
        "\n",
        "Como o notebook está sendo desenvolvido via Google Colab, os dados estão no Google Drive."
      ],
      "metadata": {
        "id": "Of_GQSGJ-cVf"
      }
    },
    {
      "cell_type": "code",
      "source": [
        "from google.colab import drive\n",
        "drive.mount('/content/drive')"
      ],
      "metadata": {
        "colab": {
          "base_uri": "https://localhost:8080/"
        },
        "id": "_TgaEjcM6UkC",
        "outputId": "07b2df81-6736-4691-f3a7-cfae472de11d"
      },
      "execution_count": 5,
      "outputs": [
        {
          "output_type": "stream",
          "name": "stdout",
          "text": [
            "Drive already mounted at /content/drive; to attempt to forcibly remount, call drive.mount(\"/content/drive\", force_remount=True).\n"
          ]
        }
      ]
    },
    {
      "cell_type": "code",
      "execution_count": null,
      "metadata": {
        "id": "Xm19stBj53rH"
      },
      "outputs": [],
      "source": [
        "import pandas as pd\n",
        "import geopandas as gpd\n",
        "import numpy as np\n",
        "# import matplotlib.pyplot as plt\n",
        "# import seaborn as sns\n",
        "# import plotly.express as px\n",
        "import folium\n",
        "import shapely.geometry as geom"
      ]
    },
    {
      "cell_type": "code",
      "execution_count": null,
      "metadata": {
        "id": "x0Lgj09f53rL"
      },
      "outputs": [],
      "source": [
        "import warnings\n",
        "warnings.filterwarnings(\"ignore\", category=FutureWarning)"
      ]
    },
    {
      "cell_type": "code",
      "execution_count": null,
      "metadata": {
        "id": "UYhJhMF653rM"
      },
      "outputs": [],
      "source": [
        "layout_df = pd.read_csv('data/layout/dados_tracado.csv', sep=';', encoding='latin-1')\n",
        "layout_df.head()"
      ]
    },
    {
      "cell_type": "code",
      "execution_count": null,
      "metadata": {
        "id": "WHvI2YHe53rO"
      },
      "outputs": [],
      "source": [
        "layout_df[\"ano_do_pnv_snv\"] = layout_df['ano_do_pnv_snv'].astype(int)\n",
        "layout_df[\"km_m_inicial\"] = layout_df['km_m_inicial'].str.replace(',', '.').astype(float)\n",
        "layout_df[\"km_m_final\"] = layout_df['km_m_final'].str.replace(',','.').astype(float)\n",
        "layout_df[\"latitude_inicial\"] = layout_df['latitude_inicial'].str.replace(',', '.').astype(float)\n",
        "layout_df[\"longitude_inicial\"] = layout_df['longitude_inicial'].str.replace(',', '.').astype(float)\n",
        "layout_df[\"latitude_final\"] = layout_df['latitude_final'].str.replace(',', '.').astype(float)\n",
        "layout_df[\"longitude_final\"] = layout_df['longitude_final'].str.replace(',', '.').astype(float)"
      ]
    },
    {
      "cell_type": "code",
      "execution_count": null,
      "metadata": {
        "id": "7nwvgm2u53rQ"
      },
      "outputs": [],
      "source": [
        "multipoint = lambda x: geom.MultiPoint([(x['longitude_inicial'], x['latitude_inicial']), (x['longitude_final'], x['latitude_final'])])\n",
        "\n",
        "layout_df['geometry'] = layout_df.apply(multipoint, axis=1)\n",
        "layout_gdf = gpd.GeoDataFrame(layout_df, geometry='geometry')\n",
        "layout_gdf.crs = \"EPSG:4326\"\n",
        "layout_gdf = layout_gdf.drop(columns=['latitude_inicial', 'longitude_inicial', 'latitude_final', 'longitude_final'])\n",
        "layout_gdf.head()"
      ]
    },
    {
      "cell_type": "code",
      "execution_count": null,
      "metadata": {
        "id": "GadjC7ny53rR"
      },
      "outputs": [],
      "source": [
        "layout_gdf.explore()"
      ]
    },
    {
      "cell_type": "markdown",
      "metadata": {
        "id": "mXfJSg5O53rS"
      },
      "source": [
        "This data is only aboout the start and end points of the curvatures. Therefore, we need to get the whole road data."
      ]
    },
    {
      "cell_type": "code",
      "execution_count": null,
      "metadata": {
        "id": "BocJjasd53rT"
      },
      "outputs": [],
      "source": [
        "road_df = pd.read_csv('data/highwayKM/dados_dos_quilometro_principal.csv', sep=';', encoding='latin-1')\n",
        "road_df.head(10)"
      ]
    },
    {
      "cell_type": "code",
      "execution_count": null,
      "metadata": {
        "id": "2XwYSFdH53rU"
      },
      "outputs": [],
      "source": [
        "road_df.info()"
      ]
    },
    {
      "cell_type": "markdown",
      "metadata": {
        "id": "_1-78wgr53rV"
      },
      "source": [
        "Changing the data types."
      ]
    },
    {
      "cell_type": "code",
      "execution_count": null,
      "metadata": {
        "id": "wh4Zr6Ab53rW"
      },
      "outputs": [],
      "source": [
        "road_df['km_m'] = road_df['km_m'].str.replace(',', '.').astype(float)\n",
        "road_df['ano_do_pnv_snv'] = road_df['ano_do_pnv_snv'].astype(int)\n",
        "road_df['latitude'] = road_df['latitude'].str.replace(',', '.').astype(float)\n",
        "road_df['longitude'] = road_df['longitude'].str.replace(',', '.').astype(float)\n",
        "\n",
        "print(road_df.info())\n",
        "road_df.head(10)"
      ]
    },
    {
      "cell_type": "markdown",
      "metadata": {
        "id": "9nSEfg9F53rW"
      },
      "source": [
        "Changing to GeoDataFrame."
      ]
    },
    {
      "cell_type": "code",
      "execution_count": null,
      "metadata": {
        "id": "UH6ce0av53rX"
      },
      "outputs": [],
      "source": [
        "def get_road_lat_long(df: pd.DataFrame) -> pd.DataFrame:\n",
        "    df_return = {\n",
        "        \"concessionaria\": [],\n",
        "        \"rodovia\": [],\n",
        "        \"ano_do_pnv_snv\": [],\n",
        "        \"km\" : [],\n",
        "        \"sentido\": [],\n",
        "        \"geometry\": []\n",
        "    }\n",
        "    road = df['rodovia'][0]\n",
        "    dealership = df['concessionaria'][0]\n",
        "    year = df['ano_do_pnv_snv'][0]\n",
        "    direction = df['sentido'][0]\n",
        "    line_points = []\n",
        "    for _, row in road_df.iterrows():\n",
        "        if row['rodovia'] != road:\n",
        "            df_return['concessionaria'].append(dealership)\n",
        "            df_return['rodovia'].append(road)\n",
        "            df_return['ano_do_pnv_snv'].append(year)\n",
        "            df_return['km'].append(df.groupby(['rodovia']).get_group(road)['km_m'].max())\n",
        "            df_return['sentido'].append(direction)\n",
        "            df_return['geometry'].append(geom.LineString(line_points))\n",
        "\n",
        "            road = row['rodovia']\n",
        "            dealership = row['concessionaria']\n",
        "            year = row['ano_do_pnv_snv']\n",
        "            direction = row['sentido']\n",
        "            line_points = []\n",
        "\n",
        "        line_points.append((row['longitude'], row['latitude']))\n",
        "\n",
        "    return gpd.GeoDataFrame(df_return)"
      ]
    },
    {
      "cell_type": "code",
      "execution_count": null,
      "metadata": {
        "id": "Hn1QnprG53rY"
      },
      "outputs": [],
      "source": [
        "road_gdf = get_road_lat_long(road_df)\n",
        "road_gdf.crs = \"EPSG:4326\"\n",
        "road_gdf.head(10)"
      ]
    },
    {
      "cell_type": "markdown",
      "metadata": {
        "id": "VkpWjihE53rY"
      },
      "source": [
        "Now lets put the roads on a map."
      ]
    },
    {
      "cell_type": "code",
      "execution_count": null,
      "metadata": {
        "id": "AllOtLSC53rZ"
      },
      "outputs": [],
      "source": [
        "road_gdf.explore()"
      ]
    },
    {
      "cell_type": "markdown",
      "metadata": {
        "id": "VOX-CKmm53rZ"
      },
      "source": [
        "The data is not ordered in a way that we can plot the roads, the way of the road is not continuous. For exemple, the road goes from point 1 to point 2 in \"ascengin\" way and from 2 to 1 in \"descending\" way.\n",
        "\n",
        "Ordering before changing to GeoDataFrame."
      ]
    },
    {
      "cell_type": "code",
      "execution_count": null,
      "metadata": {
        "id": "etO8MV2L53rZ"
      },
      "outputs": [],
      "source": [
        "road_df_group = road_df.sort_values(by=['rodovia', 'km_m', 'sentido'])\n",
        "road_df_group.head()"
      ]
    },
    {
      "cell_type": "code",
      "execution_count": null,
      "metadata": {
        "id": "Y2e0RMWk53ra"
      },
      "outputs": [],
      "source": [
        "road_gdf_group = get_road_lat_long(road_df_group)\n",
        "road_gdf_group.head(10)"
      ]
    },
    {
      "cell_type": "code",
      "execution_count": null,
      "metadata": {
        "id": "Gml4mKKq53ra"
      },
      "outputs": [],
      "source": [
        "road_gdf_group.explore()"
      ]
    },
    {
      "cell_type": "code",
      "execution_count": null,
      "metadata": {
        "id": "iPNPuhx653ra"
      },
      "outputs": [],
      "source": [
        "map = folium.Map(location=[-15.788497, -47.879873], zoom_start=4)\n",
        "\n",
        "colors = ['blue', 'red', 'green', 'purple', 'orange', 'darkred', 'lightred', 'darkblue', 'darkgreen', 'cadetblue', 'darkpurple', 'pink', 'lightblue', 'lightgreen', \"gray\", 'black']\n",
        "road = road_df_group['rodovia'].iloc[0]\n",
        "dealership = road_df_group['concessionaria'].iloc[0]\n",
        "line_points = []\n",
        "for index, row in road_df_group.iterrows():\n",
        "    if row['rodovia'] != road:\n",
        "        folium.PolyLine(locations=line_points, tooltip=f\"Road: {road}, Dealership: {dealership}\", color=colors[np.random.randint(0, len(colors))], weight=5).add_to(map)\n",
        "        line_points = []\n",
        "        road = row['rodovia']\n",
        "        dealership = row['concessionaria']\n",
        "    line_points.append((row['latitude'], row['longitude']))\n",
        "\n",
        "\n",
        "map"
      ]
    },
    {
      "cell_type": "code",
      "execution_count": null,
      "metadata": {
        "id": "QbOa395z53ra"
      },
      "outputs": [],
      "source": []
    }
  ],
  "metadata": {
    "kernelspec": {
      "display_name": "Python 3",
      "language": "python",
      "name": "python3"
    },
    "language_info": {
      "codemirror_mode": {
        "name": "ipython",
        "version": 3
      },
      "file_extension": ".py",
      "mimetype": "text/x-python",
      "name": "python",
      "nbconvert_exporter": "python",
      "pygments_lexer": "ipython3",
      "version": "3.12.5"
    },
    "colab": {
      "provenance": [],
      "include_colab_link": true
    }
  },
  "nbformat": 4,
  "nbformat_minor": 0
}