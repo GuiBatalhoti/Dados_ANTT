{
  "cells": [
    {
      "cell_type": "markdown",
      "metadata": {
        "id": "8M8SSR1I53rE"
      },
      "source": [
        "# Análise dos dados abertos da ANTT\n",
        "\n",
        "Os dados utilizados nesse notebook vêm da página de Dados Abertos da ANTT (Agência Nacional de Transportes Terrestres), mais especificamente do grupo \"Rodovias\", disponível no [link](https://dados.antt.gov.br/group/rodovias]). Para saber mais sobre o Portal de Dados Abertos da ANTT veja o seguinte [link](https://dados.antt.gov.br/about)."
      ]
    },
    {
      "cell_type": "markdown",
      "metadata": {
        "id": "HVRmUHxw96xg"
      },
      "source": [
        "## Objetivo\n",
        "\n",
        "O principal objetivo desse notebook é criar vizualizações para verificar a consistência dos dados fornecidos à ANTT pelas concessionárias de cada trecho de rodovia. Por exemplo, verficar os traçados das rodovias."
      ]
    },
    {
      "cell_type": "markdown",
      "metadata": {
        "id": "Of_GQSGJ-cVf"
      },
      "source": [
        "# Análises e Vizualizações\n",
        "\n",
        "\n",
        "## Observações sobre o notebook\n",
        "\n",
        "Este notebook está no [GitHub](https://github.com/GuiBatalhoti/Dados_ANTT) e está sendo desenvolvido de forma local, porém devido à necessidade de acesso de outros colaboradores, o notebook também está no Google Colab.\n",
        "\n",
        "Na necessidade de execução pelo Colab, executar a seguinte célula:"
      ]
    },
    {
      "cell_type": "code",
      "execution_count": 1,
      "metadata": {
        "colab": {
          "base_uri": "https://localhost:8080/"
        },
        "id": "_TgaEjcM6UkC",
        "outputId": "07b2df81-6736-4691-f3a7-cfae472de11d"
      },
      "outputs": [],
      "source": [
        "# from google.colab import drive\n",
        "# drive.mount('/content/drive')"
      ]
    },
    {
      "cell_type": "code",
      "execution_count": 1,
      "metadata": {
        "id": "Xm19stBj53rH"
      },
      "outputs": [],
      "source": [
        "import pandas as pd\n",
        "import geopandas as gpd\n",
        "import numpy as np\n",
        "import matplotlib.pyplot as plt\n",
        "import matplotlib.colors as mcolors\n",
        "import seaborn as sns\n",
        "import folium\n",
        "import shapely\n",
        "# from shapely import wkt\n",
        "# from shapely import frechet_distance"
      ]
    },
    {
      "cell_type": "code",
      "execution_count": 2,
      "metadata": {
        "id": "x0Lgj09f53rL"
      },
      "outputs": [],
      "source": [
        "import warnings\n",
        "warnings.filterwarnings(\"ignore\", category=FutureWarning)"
      ]
    },
    {
      "cell_type": "markdown",
      "metadata": {},
      "source": [
        "## Abrindo os dados de KM de Pista\n",
        "\n",
        "Especificações em: data/km_pista/quilometro_principal_dicionario_dados.pdf"
      ]
    },
    {
      "cell_type": "code",
      "execution_count": 3,
      "metadata": {},
      "outputs": [
        {
          "name": "stdout",
          "output_type": "stream",
          "text": [
            "<class 'pandas.core.frame.DataFrame'>\n",
            "RangeIndex: 255127 entries, 0 to 255126\n",
            "Data columns (total 7 columns):\n",
            " #   Column          Non-Null Count   Dtype \n",
            "---  ------          --------------   ----- \n",
            " 0   concessionaria  255127 non-null  object\n",
            " 1   ano_do_pnv_snv  255127 non-null  int64 \n",
            " 2   rodovia         255127 non-null  object\n",
            " 3   km_m            255127 non-null  object\n",
            " 4   sentido         255127 non-null  object\n",
            " 5   latitude        255127 non-null  object\n",
            " 6   longitude       255127 non-null  object\n",
            "dtypes: int64(1), object(6)\n",
            "memory usage: 13.6+ MB\n",
            "None\n"
          ]
        },
        {
          "data": {
            "text/html": [
              "<div>\n",
              "<style scoped>\n",
              "    .dataframe tbody tr th:only-of-type {\n",
              "        vertical-align: middle;\n",
              "    }\n",
              "\n",
              "    .dataframe tbody tr th {\n",
              "        vertical-align: top;\n",
              "    }\n",
              "\n",
              "    .dataframe thead th {\n",
              "        text-align: right;\n",
              "    }\n",
              "</style>\n",
              "<table border=\"1\" class=\"dataframe\">\n",
              "  <thead>\n",
              "    <tr style=\"text-align: right;\">\n",
              "      <th></th>\n",
              "      <th>concessionaria</th>\n",
              "      <th>ano_do_pnv_snv</th>\n",
              "      <th>rodovia</th>\n",
              "      <th>km_m</th>\n",
              "      <th>sentido</th>\n",
              "      <th>latitude</th>\n",
              "      <th>longitude</th>\n",
              "    </tr>\n",
              "  </thead>\n",
              "  <tbody>\n",
              "    <tr>\n",
              "      <th>0</th>\n",
              "      <td>AUTOPISTA FERNÃO DIAS</td>\n",
              "      <td>2007</td>\n",
              "      <td>BR-381/SP</td>\n",
              "      <td>22,600</td>\n",
              "      <td>Decrescente</td>\n",
              "      <td>-22,999214</td>\n",
              "      <td>-46,518242</td>\n",
              "    </tr>\n",
              "    <tr>\n",
              "      <th>1</th>\n",
              "      <td>AUTOPISTA FERNÃO DIAS</td>\n",
              "      <td>2007</td>\n",
              "      <td>BR-381/SP</td>\n",
              "      <td>22,400</td>\n",
              "      <td>Decrescente</td>\n",
              "      <td>-22,997770</td>\n",
              "      <td>-46,517069</td>\n",
              "    </tr>\n",
              "    <tr>\n",
              "      <th>2</th>\n",
              "      <td>AUTOPISTA FERNÃO DIAS</td>\n",
              "      <td>2007</td>\n",
              "      <td>BR-381/SP</td>\n",
              "      <td>22,200</td>\n",
              "      <td>Decrescente</td>\n",
              "      <td>-22,996627</td>\n",
              "      <td>-46,515558</td>\n",
              "    </tr>\n",
              "    <tr>\n",
              "      <th>3</th>\n",
              "      <td>AUTOPISTA FERNÃO DIAS</td>\n",
              "      <td>2007</td>\n",
              "      <td>BR-381/SP</td>\n",
              "      <td>22,000</td>\n",
              "      <td>Decrescente</td>\n",
              "      <td>-22,995466</td>\n",
              "      <td>-46,514080</td>\n",
              "    </tr>\n",
              "    <tr>\n",
              "      <th>4</th>\n",
              "      <td>AUTOPISTA FERNÃO DIAS</td>\n",
              "      <td>2007</td>\n",
              "      <td>BR-381/SP</td>\n",
              "      <td>21,800</td>\n",
              "      <td>Decrescente</td>\n",
              "      <td>-22,994674</td>\n",
              "      <td>-46,512898</td>\n",
              "    </tr>\n",
              "  </tbody>\n",
              "</table>\n",
              "</div>"
            ],
            "text/plain": [
              "          concessionaria  ano_do_pnv_snv    rodovia    km_m      sentido  \\\n",
              "0  AUTOPISTA FERNÃO DIAS            2007  BR-381/SP  22,600  Decrescente   \n",
              "1  AUTOPISTA FERNÃO DIAS            2007  BR-381/SP  22,400  Decrescente   \n",
              "2  AUTOPISTA FERNÃO DIAS            2007  BR-381/SP  22,200  Decrescente   \n",
              "3  AUTOPISTA FERNÃO DIAS            2007  BR-381/SP  22,000  Decrescente   \n",
              "4  AUTOPISTA FERNÃO DIAS            2007  BR-381/SP  21,800  Decrescente   \n",
              "\n",
              "     latitude   longitude  \n",
              "0  -22,999214  -46,518242  \n",
              "1  -22,997770  -46,517069  \n",
              "2  -22,996627  -46,515558  \n",
              "3  -22,995466  -46,514080  \n",
              "4  -22,994674  -46,512898  "
            ]
          },
          "execution_count": 3,
          "metadata": {},
          "output_type": "execute_result"
        }
      ],
      "source": [
        "pista_df = pd.read_csv('data/km_pista/dados_dos_quilometro_principal.csv', sep=';', encoding='latin1')\n",
        "print(pista_df.info())\n",
        "pista_df.head()"
      ]
    },
    {
      "cell_type": "code",
      "execution_count": 4,
      "metadata": {},
      "outputs": [
        {
          "name": "stdout",
          "output_type": "stream",
          "text": [
            "<class 'pandas.core.frame.DataFrame'>\n",
            "RangeIndex: 255127 entries, 0 to 255126\n",
            "Data columns (total 7 columns):\n",
            " #   Column          Non-Null Count   Dtype  \n",
            "---  ------          --------------   -----  \n",
            " 0   concessionaria  255127 non-null  object \n",
            " 1   ano_do_pnv_snv  255127 non-null  int64  \n",
            " 2   rodovia         255127 non-null  object \n",
            " 3   km_m            255127 non-null  float64\n",
            " 4   sentido         255127 non-null  object \n",
            " 5   latitude        255127 non-null  float64\n",
            " 6   longitude       255127 non-null  float64\n",
            "dtypes: float64(3), int64(1), object(3)\n",
            "memory usage: 13.6+ MB\n",
            "None\n"
          ]
        },
        {
          "data": {
            "text/html": [
              "<div>\n",
              "<style scoped>\n",
              "    .dataframe tbody tr th:only-of-type {\n",
              "        vertical-align: middle;\n",
              "    }\n",
              "\n",
              "    .dataframe tbody tr th {\n",
              "        vertical-align: top;\n",
              "    }\n",
              "\n",
              "    .dataframe thead th {\n",
              "        text-align: right;\n",
              "    }\n",
              "</style>\n",
              "<table border=\"1\" class=\"dataframe\">\n",
              "  <thead>\n",
              "    <tr style=\"text-align: right;\">\n",
              "      <th></th>\n",
              "      <th>concessionaria</th>\n",
              "      <th>ano_do_pnv_snv</th>\n",
              "      <th>rodovia</th>\n",
              "      <th>km_m</th>\n",
              "      <th>sentido</th>\n",
              "      <th>latitude</th>\n",
              "      <th>longitude</th>\n",
              "    </tr>\n",
              "  </thead>\n",
              "  <tbody>\n",
              "    <tr>\n",
              "      <th>0</th>\n",
              "      <td>AUTOPISTA FERNÃO DIAS</td>\n",
              "      <td>2007</td>\n",
              "      <td>BR-381/SP</td>\n",
              "      <td>22.6</td>\n",
              "      <td>Decrescente</td>\n",
              "      <td>-22.999214</td>\n",
              "      <td>-46.518242</td>\n",
              "    </tr>\n",
              "    <tr>\n",
              "      <th>1</th>\n",
              "      <td>AUTOPISTA FERNÃO DIAS</td>\n",
              "      <td>2007</td>\n",
              "      <td>BR-381/SP</td>\n",
              "      <td>22.4</td>\n",
              "      <td>Decrescente</td>\n",
              "      <td>-22.997770</td>\n",
              "      <td>-46.517069</td>\n",
              "    </tr>\n",
              "    <tr>\n",
              "      <th>2</th>\n",
              "      <td>AUTOPISTA FERNÃO DIAS</td>\n",
              "      <td>2007</td>\n",
              "      <td>BR-381/SP</td>\n",
              "      <td>22.2</td>\n",
              "      <td>Decrescente</td>\n",
              "      <td>-22.996627</td>\n",
              "      <td>-46.515558</td>\n",
              "    </tr>\n",
              "    <tr>\n",
              "      <th>3</th>\n",
              "      <td>AUTOPISTA FERNÃO DIAS</td>\n",
              "      <td>2007</td>\n",
              "      <td>BR-381/SP</td>\n",
              "      <td>22.0</td>\n",
              "      <td>Decrescente</td>\n",
              "      <td>-22.995466</td>\n",
              "      <td>-46.514080</td>\n",
              "    </tr>\n",
              "    <tr>\n",
              "      <th>4</th>\n",
              "      <td>AUTOPISTA FERNÃO DIAS</td>\n",
              "      <td>2007</td>\n",
              "      <td>BR-381/SP</td>\n",
              "      <td>21.8</td>\n",
              "      <td>Decrescente</td>\n",
              "      <td>-22.994674</td>\n",
              "      <td>-46.512898</td>\n",
              "    </tr>\n",
              "  </tbody>\n",
              "</table>\n",
              "</div>"
            ],
            "text/plain": [
              "          concessionaria  ano_do_pnv_snv    rodovia  km_m      sentido  \\\n",
              "0  AUTOPISTA FERNÃO DIAS            2007  BR-381/SP  22.6  Decrescente   \n",
              "1  AUTOPISTA FERNÃO DIAS            2007  BR-381/SP  22.4  Decrescente   \n",
              "2  AUTOPISTA FERNÃO DIAS            2007  BR-381/SP  22.2  Decrescente   \n",
              "3  AUTOPISTA FERNÃO DIAS            2007  BR-381/SP  22.0  Decrescente   \n",
              "4  AUTOPISTA FERNÃO DIAS            2007  BR-381/SP  21.8  Decrescente   \n",
              "\n",
              "    latitude  longitude  \n",
              "0 -22.999214 -46.518242  \n",
              "1 -22.997770 -46.517069  \n",
              "2 -22.996627 -46.515558  \n",
              "3 -22.995466 -46.514080  \n",
              "4 -22.994674 -46.512898  "
            ]
          },
          "execution_count": 4,
          "metadata": {},
          "output_type": "execute_result"
        }
      ],
      "source": [
        "pista_df['km_m'] = pista_df['km_m'].str.replace(',', '.').astype(float)\n",
        "pista_df['ano_do_pnv_snv'] = pista_df['ano_do_pnv_snv'].astype(int)\n",
        "pista_df['latitude'] = pista_df['latitude'].str.replace(',', '.').astype(float)\n",
        "pista_df['longitude'] = pista_df['longitude'].str.replace(',', '.').astype(float)\n",
        "\n",
        "print(pista_df.info())\n",
        "pista_df.head()"
      ]
    },
    {
      "cell_type": "markdown",
      "metadata": {},
      "source": [
        "Colocando os dados de forma \"Crua\" no mapa, desconsiderando o sentido"
      ]
    },
    {
      "cell_type": "code",
      "execution_count": 5,
      "metadata": {},
      "outputs": [],
      "source": [
        "mapa = folium.Map(location=[-15.788497, -47.879873], zoom_start=4)\n",
        "\n",
        "cores = ['red', 'blue', 'green', 'purple', 'orange', 'darkred', 'darkblue', 'darkgreen', 'cadetblue', 'darkpurple', 'pink', 'gray', 'black']\n",
        "rodovia = pista_df['rodovia'].iloc[0]\n",
        "sentido = pista_df['sentido'].iloc[0]\n",
        "pontos_linha  = []\n",
        "for i, linha in pista_df.iterrows():\n",
        "    if linha['rodovia'] != rodovia:\n",
        "        mapa.add_child(folium.PolyLine(locations=pontos_linha, \n",
        "                                       color=cores[np.random.randint(0, len(cores))], \n",
        "                                       alpha=0.7,\n",
        "                                       weight=3, \n",
        "                                       popup=folium.Popup(f\"{rodovia}\\n{linha['concessionaria']}\")))\n",
        "        rodovia = linha['rodovia']\n",
        "        sentido = linha['sentido']\n",
        "        pontos_linha = []\n",
        "    pontos_linha.append([linha['latitude'], linha['longitude']])\n",
        "\n",
        "if mapa.save('output/mapa_rodovias_cru.html'):\n",
        "    print('Mapa salvo com sucesso, em output/mapa_rodovias_cru.html')"
      ]
    },
    {
      "cell_type": "markdown",
      "metadata": {},
      "source": [
        "É possível obervar que algumas rodovias apresentam \"riscos\" que  cortam todo o seu trajeto, o que pode ser um erro de preenchimento dos dados. Exemplos:\n",
        "- BR-163/MS (RIOSP)\n",
        "- BR-163/MT (CRO)\n",
        "- BR-163/MT (ECO050)\n",
        "- BR-364/MT (CRO)\n",
        "- BR-70/MT (CRO)\n",
        "- BR-116/RJ (RODOVIA DO AÇO)\n",
        "\n",
        "Em alguns casos, podemos observar que o \"risco\" atravessa todo o comprimenro da rodovia, que pode estar relacionado à desconsideração do sentido da rodovia. Exemplos:\n",
        "- BR-116/SP (AUTOPISTA REGIS BITTENCOURT)\n",
        "- BR-262/MG (CRO)\n",
        "- BR-153/MG (CONCEBRA)"
      ]
    },
    {
      "cell_type": "markdown",
      "metadata": {},
      "source": [
        "Transformando os dados em GeoDataFrame para melhor manipulação"
      ]
    },
    {
      "cell_type": "code",
      "execution_count": 6,
      "metadata": {},
      "outputs": [],
      "source": [
        "def df2gdf(df: pd.DataFrame, ignora_sentido: bool) -> gpd.GeoDataFrame:\n",
        "    df.sort_values(['rodovia', 'km_m', 'sentido'], inplace=True, ignore_index=True)\n",
        "    df_return = {\n",
        "        \"rodovia\": [],\n",
        "        \"sentido\": [],\n",
        "        \"concessionaria\": [],\n",
        "        \"km\": [],\n",
        "        \"ano_do_pnv_snv\": [],\n",
        "        \"geometry\": []\n",
        "    }\n",
        "    pontos = []\n",
        "\n",
        "    linha_anterior = df.iloc[0]\n",
        "    for i, linha in df.iterrows():\n",
        "        if linha['rodovia'] != linha_anterior['rodovia'] or (linha['sentido'] != linha_anterior['sentido'] and not ignora_sentido):\n",
        "            df_return[\"rodovia\"].append(linha_anterior['rodovia'])\n",
        "            df_return[\"sentido\"].append(linha_anterior['sentido'])\n",
        "            df_return[\"concessionaria\"].append(linha_anterior['concessionaria'])\n",
        "            df_return[\"km\"].append(df[(df['rodovia'] == linha_anterior['rodovia']) &\n",
        "                                  (df['sentido'] == linha_anterior['sentido']) &\n",
        "                                  (df['concessionaria'] == linha_anterior['concessionaria'])]['km_m'].max())\n",
        "            df_return[\"ano_do_pnv_snv\"].append(linha_anterior['ano_do_pnv_snv'])\n",
        "            if len(pontos) > 1:\n",
        "                df_return[\"geometry\"].append(shapely.geometry.LineString(pontos))\n",
        "            else:\n",
        "                df_return[\"geometry\"].append(shapely.geometry.Point(pontos[0]))\n",
        "            pontos = []\n",
        "            \n",
        "        pontos.append((linha['longitude'], linha['latitude']))\n",
        "        linha_anterior = linha\n",
        "\n",
        "\n",
        "    return gpd.GeoDataFrame(df_return, crs=\"EPSG:4326\")"
      ]
    },
    {
      "cell_type": "code",
      "execution_count": 7,
      "metadata": {},
      "outputs": [],
      "source": [
        "pista_gdf = df2gdf(pista_df, ignora_sentido=True)\n",
        "# pista_gdf_sentido = df2gdf(pista_df, ignora_sentido=False)"
      ]
    },
    {
      "cell_type": "code",
      "execution_count": 8,
      "metadata": {},
      "outputs": [
        {
          "data": {
            "text/html": [
              "<div>\n",
              "<style scoped>\n",
              "    .dataframe tbody tr th:only-of-type {\n",
              "        vertical-align: middle;\n",
              "    }\n",
              "\n",
              "    .dataframe tbody tr th {\n",
              "        vertical-align: top;\n",
              "    }\n",
              "\n",
              "    .dataframe thead th {\n",
              "        text-align: right;\n",
              "    }\n",
              "</style>\n",
              "<table border=\"1\" class=\"dataframe\">\n",
              "  <thead>\n",
              "    <tr style=\"text-align: right;\">\n",
              "      <th></th>\n",
              "      <th>rodovia</th>\n",
              "      <th>sentido</th>\n",
              "      <th>concessionaria</th>\n",
              "      <th>km</th>\n",
              "      <th>ano_do_pnv_snv</th>\n",
              "      <th>geometry</th>\n",
              "    </tr>\n",
              "  </thead>\n",
              "  <tbody>\n",
              "    <tr>\n",
              "      <th>0</th>\n",
              "      <td>092/PR</td>\n",
              "      <td>Decrescente</td>\n",
              "      <td>LITORAL PIONEIRO</td>\n",
              "      <td>324.090</td>\n",
              "      <td>2019</td>\n",
              "      <td>LINESTRING (-49.73240 -24.25181, -49.73472 -24...</td>\n",
              "    </tr>\n",
              "    <tr>\n",
              "      <th>1</th>\n",
              "      <td>151/PR</td>\n",
              "      <td>Crescente</td>\n",
              "      <td>LITORAL PIONEIRO</td>\n",
              "      <td>318.022</td>\n",
              "      <td>2019</td>\n",
              "      <td>LINESTRING (-49.47956 -24.11651, -49.48566 -24...</td>\n",
              "    </tr>\n",
              "    <tr>\n",
              "      <th>2</th>\n",
              "      <td>239/PR</td>\n",
              "      <td>Decrescente</td>\n",
              "      <td>LITORAL PIONEIRO</td>\n",
              "      <td>12.359</td>\n",
              "      <td>2019</td>\n",
              "      <td>LINESTRING (-49.37777 -24.11891, -49.38658 -24...</td>\n",
              "    </tr>\n",
              "    <tr>\n",
              "      <th>3</th>\n",
              "      <td>407/PR</td>\n",
              "      <td>Crescente</td>\n",
              "      <td>LITORAL PIONEIRO</td>\n",
              "      <td>17.990</td>\n",
              "      <td>2019</td>\n",
              "      <td>LINESTRING (-48.57749 -25.56884, -48.57285 -25...</td>\n",
              "    </tr>\n",
              "    <tr>\n",
              "      <th>4</th>\n",
              "      <td>408/PR</td>\n",
              "      <td>Crescente</td>\n",
              "      <td>LITORAL PIONEIRO</td>\n",
              "      <td>21.999</td>\n",
              "      <td>2019</td>\n",
              "      <td>LINESTRING (-48.75282 -25.52557, -48.76237 -25...</td>\n",
              "    </tr>\n",
              "    <tr>\n",
              "      <th>...</th>\n",
              "      <td>...</td>\n",
              "      <td>...</td>\n",
              "      <td>...</td>\n",
              "      <td>...</td>\n",
              "      <td>...</td>\n",
              "      <td>...</td>\n",
              "    </tr>\n",
              "    <tr>\n",
              "      <th>94</th>\n",
              "      <td>CONTORNO SUL - FS1/BA</td>\n",
              "      <td>Decrescente</td>\n",
              "      <td>VIA BAHIA</td>\n",
              "      <td>7.900</td>\n",
              "      <td>2003</td>\n",
              "      <td>LINESTRING (-38.98886 -12.26814, -38.98886 -12...</td>\n",
              "    </tr>\n",
              "    <tr>\n",
              "      <th>95</th>\n",
              "      <td>CW-116/PR</td>\n",
              "      <td>Decrescente</td>\n",
              "      <td>AUTOPISTA REGIS BITTENCOURT</td>\n",
              "      <td>18.500</td>\n",
              "      <td>2017</td>\n",
              "      <td>LINESTRING (-49.04491 -25.34556, -49.04491 -25...</td>\n",
              "    </tr>\n",
              "    <tr>\n",
              "      <th>96</th>\n",
              "      <td>Contorno de Iconha/ES</td>\n",
              "      <td>Decrescente</td>\n",
              "      <td>ECO101</td>\n",
              "      <td>7.044</td>\n",
              "      <td>2020</td>\n",
              "      <td>LINESTRING (-40.78341 -20.78697, -40.78341 -20...</td>\n",
              "    </tr>\n",
              "    <tr>\n",
              "      <th>97</th>\n",
              "      <td>Contorno de Uberlândia/MG</td>\n",
              "      <td>Decrescente</td>\n",
              "      <td>ECO050</td>\n",
              "      <td>21.000</td>\n",
              "      <td>2017</td>\n",
              "      <td>LINESTRING (-48.25685 -18.85986, -48.25692 -18...</td>\n",
              "    </tr>\n",
              "    <tr>\n",
              "      <th>98</th>\n",
              "      <td>Contorno/MG</td>\n",
              "      <td>Decrescente</td>\n",
              "      <td>AUTOPISTA FERNÃO DIAS</td>\n",
              "      <td>7.400</td>\n",
              "      <td>2007</td>\n",
              "      <td>LINESTRING (-44.15594 -19.96128, -44.15571 -19...</td>\n",
              "    </tr>\n",
              "  </tbody>\n",
              "</table>\n",
              "<p>99 rows × 6 columns</p>\n",
              "</div>"
            ],
            "text/plain": [
              "                      rodovia      sentido               concessionaria  \\\n",
              "0                      092/PR  Decrescente             LITORAL PIONEIRO   \n",
              "1                      151/PR    Crescente             LITORAL PIONEIRO   \n",
              "2                      239/PR  Decrescente             LITORAL PIONEIRO   \n",
              "3                      407/PR    Crescente             LITORAL PIONEIRO   \n",
              "4                      408/PR    Crescente             LITORAL PIONEIRO   \n",
              "..                        ...          ...                          ...   \n",
              "94      CONTORNO SUL - FS1/BA  Decrescente                    VIA BAHIA   \n",
              "95                  CW-116/PR  Decrescente  AUTOPISTA REGIS BITTENCOURT   \n",
              "96      Contorno de Iconha/ES  Decrescente                       ECO101   \n",
              "97  Contorno de Uberlândia/MG  Decrescente                       ECO050   \n",
              "98                Contorno/MG  Decrescente        AUTOPISTA FERNÃO DIAS   \n",
              "\n",
              "         km  ano_do_pnv_snv                                           geometry  \n",
              "0   324.090            2019  LINESTRING (-49.73240 -24.25181, -49.73472 -24...  \n",
              "1   318.022            2019  LINESTRING (-49.47956 -24.11651, -49.48566 -24...  \n",
              "2    12.359            2019  LINESTRING (-49.37777 -24.11891, -49.38658 -24...  \n",
              "3    17.990            2019  LINESTRING (-48.57749 -25.56884, -48.57285 -25...  \n",
              "4    21.999            2019  LINESTRING (-48.75282 -25.52557, -48.76237 -25...  \n",
              "..      ...             ...                                                ...  \n",
              "94    7.900            2003  LINESTRING (-38.98886 -12.26814, -38.98886 -12...  \n",
              "95   18.500            2017  LINESTRING (-49.04491 -25.34556, -49.04491 -25...  \n",
              "96    7.044            2020  LINESTRING (-40.78341 -20.78697, -40.78341 -20...  \n",
              "97   21.000            2017  LINESTRING (-48.25685 -18.85986, -48.25692 -18...  \n",
              "98    7.400            2007  LINESTRING (-44.15594 -19.96128, -44.15571 -19...  \n",
              "\n",
              "[99 rows x 6 columns]"
            ]
          },
          "execution_count": 8,
          "metadata": {},
          "output_type": "execute_result"
        }
      ],
      "source": [
        "pista_gdf"
      ]
    },
    {
      "cell_type": "markdown",
      "metadata": {},
      "source": [
        "## Colocando todos os dados em um mapa interativo"
      ]
    },
    {
      "cell_type": "code",
      "execution_count": 15,
      "metadata": {},
      "outputs": [],
      "source": [
        "mapa = folium.Map(location=[-15.788497, -47.879873], zoom_start=4)\n",
        "\n",
        "cores = list(mcolors.TABLEAU_COLORS.keys())\n",
        "\n",
        "folium.GeoJson(pista_gdf, \n",
        "               name='Pista Principal',\n",
        "               style_function= lambda x: {\n",
        "                     'color': 'darkblue',\n",
        "                     'weight': 3,\n",
        "                     'opacity': 0.6\n",
        "               }).add_to(mapa)\n",
        "folium.LayerControl().add_to(mapa)\n",
        "\n",
        "\n",
        "mapa.save('output/mapa_rodovias.html')"
      ]
    },
    {
      "cell_type": "code",
      "execution_count": 10,
      "metadata": {},
      "outputs": [],
      "source": [
        "# brasil = gpd.read_file(\"https://geodata.ucdavis.edu/gadm/gadm4.1/shp/gadm41_BRA_shp.zip\", layer=\"gadm41_BRA_1\")\n",
        "# cores = list(mcolors.TABLEAU_COLORS.keys())\n",
        "\n",
        "# fig = plt.figure(figsize=(20,20), dpi=100)\n",
        "# ax = fig.add_subplot(111)\n",
        "# ax.set_title(\"Malha Rodoviária do Brasil, análise qualitativa\")\n",
        "\n",
        "# brasil.plot(ax=ax, color='lightgray', edgecolor='black')\n",
        "# for i, (index, linha) in enumerate(pista_gdf.iterrows()):\n",
        "#     if linha['rodovia'].startswith('BR'):\n",
        "#         pista_gdf.iloc[[i]].plot(ax=ax, color=cores[i % len(cores)], linewidth=2, alpha=0.7, label=f\"{linha['rodovia']} - {linha['concessionaria']}\")\n",
        "\n",
        "# plt.legend(title=\"Rodovias - Concessionárias\", loc=\"upper left\")\n",
        "# plt.show()"
      ]
    },
    {
      "cell_type": "code",
      "execution_count": 11,
      "metadata": {},
      "outputs": [],
      "source": [
        "# brasil = gpd.read_file(\"https://geodata.ucdavis.edu/gadm/gadm4.1/shp/gadm41_BRA_shp.zip\", layer=\"gadm41_BRA_1\")\n",
        "# cores = list(mcolors.TABLEAU_COLORS.keys())\n",
        "\n",
        "# fig = plt.figure(figsize=(20,20), dpi=100)\n",
        "# ax = fig.add_subplot(111)\n",
        "# ax.set_title(\"Malha Rodoviária do Brasil, análise qualitativa\")\n",
        "\n",
        "# brasil.plot(ax=ax, color='lightgray', edgecolor='black')\n",
        "# for i, (index, linha) in enumerate(pista_gdf.iterrows()):\n",
        "#     pista_gdf.iloc[[i]].plot(ax=ax, color=cores[i % len(cores)], linewidth=2, alpha=0.7, label=f\"{linha['rodovia']} - {linha['concessionaria']}\")\n",
        "\n",
        "# plt.legend(title=\"Rodovias - Concessionárias\", loc=\"upper left\")\n",
        "# plt.show()"
      ]
    },
    {
      "cell_type": "code",
      "execution_count": null,
      "metadata": {},
      "outputs": [],
      "source": [
        "brasil = gpd.read_file(\"https://geodata.ucdavis.edu/gadm/gadm4.1/shp/gadm41_BRA_shp.zip\", layer=\"gadm41_BRA_1\")\n",
        "cores = list(mcolors.TABLEAU_COLORS.keys())\n",
        "\n",
        "fig = plt.figure(figsize=(10,10))\n",
        "\n",
        "gs = fig.add_gridspec(1, 2, wspace=0, width_ratios=[1, 1], hspace=0, height_ratios=[1])\n",
        "(ax1, ax2) = gs.subplots(sharex=True, sharey=True)\n",
        "\n",
        "ax1.set_title(\"Rodovias Principais\")\n",
        "ax2.set_title(\"Entruncamentos e Contornos\")\n",
        "\n",
        "brasil.plot(ax=ax1, color='lightgray', edgecolor='black')\n",
        "brasil.plot(ax=ax2, color='lightgray', edgecolor='black')\n",
        "for i, (index, linha) in enumerate(pista_gdf.iterrows()):\n",
        "    cor = cores[i % len(cores)]\n",
        "    if linha['rodovia'].startswith('BR'):\n",
        "        pista_gdf.iloc[[i]].plot(ax=ax1, color=cor, linewidth=2, alpha=0.7)\n",
        "    pista_gdf.iloc[[i]].plot(ax=ax2, color=cor, linewidth=2, alpha=0.7)\n",
        "\n",
        "# plt.legend(title=\"Rodovias - Concessionárias\", loc=\"upper left\")\n",
        "plt.savefig('output/rodovias.pdf')"
      ]
    },
    {
      "cell_type": "code",
      "execution_count": null,
      "metadata": {},
      "outputs": [],
      "source": [
        "pista_gdf['estado'] = pista_gdf['rodovia'].map(lambda x: x.split('/')[1])\n",
        "pista_gdf = pista_gdf[['rodovia', 'estado', 'sentido', 'concessionaria', 'km', 'ano_do_pnv_snv', 'geometry']]\n",
        "pista_gdf"
      ]
    },
    {
      "cell_type": "markdown",
      "metadata": {},
      "source": [
        "comparação dos dados do OpenStreetMap com os dados da ANTT da BR-163"
      ]
    },
    {
      "cell_type": "code",
      "execution_count": null,
      "metadata": {},
      "outputs": [],
      "source": [
        "df = pd.read_csv('data/rodovias_MT-MS/points.csv')\n",
        "df['geometry'] = df.apply(wkt.loads)\n",
        "pista_osm_gdf = gpd.GeoDataFrame(df, crs=\"\")\n",
        "pista_osm_gdf.set_crs(epsg=3857, inplace=True)\n",
        "pista_osm_gdf.to_crs(epsg=4326, inplace=True)\n",
        "#adicionar os pontos à uma lineString\n",
        "pista_osm_line = geom.LineString(pista_osm_gdf['geometry'].values)\n",
        "pista_osm_gdf = gpd.GeoDataFrame({'geometry': [pista_osm_line]}, crs=\"EPSG:4326\")\n",
        "pista_osm_gdf"
      ]
    },
    {
      "cell_type": "markdown",
      "metadata": {},
      "source": [
        "Calculando a distância entre os pontos do OpenStreetMap e da ANTT"
      ]
    },
    {
      "cell_type": "code",
      "execution_count": null,
      "metadata": {},
      "outputs": [],
      "source": [
        "rodovias_mt_ms = pista_gdf[pista_gdf['estado'].isin(['MT', 'MS'])]\n",
        "rodovias_mt_ms"
      ]
    },
    {
      "cell_type": "code",
      "execution_count": 16,
      "metadata": {},
      "outputs": [],
      "source": [
        "line_rodo_mt_ms = rodovias_mt_ms.unary_union\n",
        "distancia = frechet_distance(line_rodo_mt_ms, pista_osm_line)"
      ]
    },
    {
      "cell_type": "code",
      "execution_count": null,
      "metadata": {},
      "outputs": [],
      "source": [
        "print(f\"A distância de Fréchet entre as rodovias de MT/MS e a linha do OSM é de {distancia}.\")"
      ]
    },
    {
      "cell_type": "code",
      "execution_count": null,
      "metadata": {},
      "outputs": [],
      "source": [
        "brasil = gpd.read_file(\"https://geodata.ucdavis.edu/gadm/gadm4.1/shp/gadm41_BRA_shp.zip\", layer=\"gadm41_BRA_1\")\n",
        "\n",
        "fig = plt.figure(figsize=(10,10))\n",
        "ax = fig.add_subplot(111)\n",
        "ax.set_title(\"Rodovias Principais\")\n",
        "\n",
        "brasil.plot(ax=ax, color='lightgray', edgecolor='black')\n",
        "pista_osm_gdf.plot(ax=ax, color='red', alpha=0.7, label=\"BR-163 - OSM\")\n",
        "pista_gdf[pista_gdf['estado'] == 'MT'].plot(ax=ax, color='blue', alpha=0.7, label=\"BR-163 - ANTT\")\n"
      ]
    },
    {
      "cell_type": "code",
      "execution_count": null,
      "metadata": {},
      "outputs": [],
      "source": []
    }
  ],
  "metadata": {
    "colab": {
      "include_colab_link": true,
      "provenance": []
    },
    "kernelspec": {
      "display_name": "Python 3",
      "language": "python",
      "name": "python3"
    },
    "language_info": {
      "codemirror_mode": {
        "name": "ipython",
        "version": 3
      },
      "file_extension": ".py",
      "mimetype": "text/x-python",
      "name": "python",
      "nbconvert_exporter": "python",
      "pygments_lexer": "ipython3",
      "version": "3.12.5"
    }
  },
  "nbformat": 4,
  "nbformat_minor": 0
}
